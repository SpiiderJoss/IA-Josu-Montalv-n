{
 "cells": [
  {
   "cell_type": "markdown",
   "id": "88fcd8db",
   "metadata": {},
   "source": [
    "Codigo para generar dataset de videos"
   ]
  },
  {
   "cell_type": "code",
   "execution_count": 6,
   "id": "c7d8fc5c",
   "metadata": {},
   "outputs": [],
   "source": [
    "import numpy as np\n",
    "import cv2 as cv\n",
    "\n",
    "# Abrir el archivo de video\n",
    "cap = cv.VideoCapture('C:/Users/crazu/Downloads/tornado.mp4')\n",
    "\n",
    "# Contador para enumerar los fotogramas\n",
    "i = 0\n",
    "\n",
    "while True:\n",
    "    # Leer un fotograma del video\n",
    "    ret, frame = cap.read()\n",
    "\n",
    "    # Verificar si se ha leído correctamente el fotograma\n",
    "    if not ret:\n",
    "        print(\"No se pudo leer el fotograma. ¿Es correcta la ruta del archivo de video?\")\n",
    "        break\n",
    "\n",
    "    # Redimensionar el fotograma a 100x100 píxeles\n",
    "    frame_resized = cv.resize(frame, (28, 28))\n",
    "\n",
    "    # Mostrar el fotograma\n",
    "    cv.imshow('img', frame_resized)\n",
    "\n",
    "    # Esperar una tecla\n",
    "    k = cv.waitKey(1)\n",
    "\n",
    "    # Incrementar el contador\n",
    "    i += 1\n",
    "\n",
    "    # Guardar el fotograma redimensionado\n",
    "    cv.imwrite(f'C:/Users/crazu/Documents/Inteligencia artificial/desastres/asaltos2/torna-{i}.jpg', frame_resized)\n",
    "\n",
    "    # Salir del bucle si se presiona la tecla 'Esc'\n",
    "    if k == 27:\n",
    "        break\n",
    "\n",
    "# Liberar la captura de video y cerrar todas las ventanas\n",
    "cap.release()\n",
    "cv.destroyAllWindows()\n"
   ]
  },
  {
   "cell_type": "code",
   "execution_count": null,
   "id": "c76ddc80",
   "metadata": {},
   "outputs": [],
   "source": []
  },
  {
   "cell_type": "code",
   "execution_count": null,
   "id": "79ec96d4",
   "metadata": {},
   "outputs": [],
   "source": []
  }
 ],
 "metadata": {
  "kernelspec": {
   "display_name": "Python 3 (ipykernel)",
   "language": "python",
   "name": "python3"
  },
  "language_info": {
   "codemirror_mode": {
    "name": "ipython",
    "version": 3
   },
   "file_extension": ".py",
   "mimetype": "text/x-python",
   "name": "python",
   "nbconvert_exporter": "python",
   "pygments_lexer": "ipython3",
   "version": "3.10.13"
  }
 },
 "nbformat": 4,
 "nbformat_minor": 5
}
