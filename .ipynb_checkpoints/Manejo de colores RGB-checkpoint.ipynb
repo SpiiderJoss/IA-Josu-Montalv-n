{
 "cells": [
  {
   "cell_type": "markdown",
   "id": "88f1a328",
   "metadata": {},
   "source": [
    "Cargar imagen "
   ]
  },
  {
   "cell_type": "code",
   "execution_count": null,
   "id": "b2dddd5e",
   "metadata": {},
   "outputs": [],
   "source": [
    "import cv2 as cv\n",
    "import numpy as np"
   ]
  },
  {
   "cell_type": "code",
   "execution_count": null,
   "id": "30bb90cd",
   "metadata": {},
   "outputs": [],
   "source": [
    "def escala(imx, escala):\n",
    "    width =int(imx.shape[1] * escala / 100)\n",
    "    height =int(imx.shape[0] * escala / 100)\n",
    "    size = (width, height)\n",
    "    im = cv.resize(imx, size, interpolation = cv.INTER_AREA)\n",
    "    return im"
   ]
  },
  {
   "cell_type": "code",
   "execution_count": null,
   "id": "f8831bdc",
   "metadata": {},
   "outputs": [],
   "source": [
    "img = cv.imread('C:\\\\Users\\\\crazu\\\\Downloads\\\\gato.jpg',1)\n",
    "r,g,b=cv.split(img)\n",
    "img2 = escala(img, 200)\n",
    "cv.imshow('r', r) \n",
    "cv.imshow('g', g) \n",
    "cv.imshow('b', b) \n",
    "cv.waitKey(0)\n",
    "cv.destroyAllWindows()"
   ]
  },
  {
   "cell_type": "code",
   "execution_count": null,
   "id": "3d51b9f2",
   "metadata": {},
   "outputs": [],
   "source": [
    "img = cv.imread('C:\\\\Users\\\\crazu\\\\Downloads\\\\gato.jpg',1)\n",
    "w,h = img.shape[:2]\n",
    "b,g,r = cv.split(img)\n",
    "img2 = np.zeros((w, h), dtype='uint8')\n",
    "r = cv.merge([r, img2, img2])\n",
    "g = cv.merge([img2, g,  img2])\n",
    "b = cv.merge([img2, img2, b])\n",
    "cv.imshow('red', r)\n",
    "cv.imshow('green', g)\n",
    "cv.imshow('blue', b)\n",
    "img2 = escala(img, 200)\n",
    "cv.imshow('Original', img)\n",
    "cv.waitKey(0)\n",
    "cv.destroyAllWindows()"
   ]
  },
  {
   "cell_type": "code",
   "execution_count": 1,
   "id": "03316e8d",
   "metadata": {},
   "outputs": [
    {
     "data": {
      "text/plain": [
       "'C:\\\\Users\\\\crazu\\\\Documents\\\\IA'"
      ]
     },
     "execution_count": 1,
     "metadata": {},
     "output_type": "execute_result"
    }
   ],
   "source": [
    "pwd"
   ]
  },
  {
   "cell_type": "code",
   "execution_count": null,
   "id": "420255c2",
   "metadata": {},
   "outputs": [],
   "source": [
    "import cv2 as cv \n",
    "img = cv.imread('C:\\\\Users\\\\crazu\\\\Downloads\\\\mrincreible.jpg',1)\n",
    "img2 = cv.cvtColor(img, cv.COLOR_BGR2HSV)\n",
    "ubb = (0,60,60)\n",
    "uba =(10, 255,255)\n",
    "ubb1 = (170,60,60)\n",
    "uba1 =(180, 255,255)\n",
    "mask1 = cv.inRange(img2, ubb, uba)\n",
    "mask2 = cv.inRange(img2, ubb1, uba1)\n",
    "mask3 = mask1 + mask2\n",
    "img3 = cv.bitwise_and(img,img, mask=mask3)\n",
    "cv.imshow('img2', img2)\n",
    "cv.imshow('img', img)\n",
    "cv.imshow('img3', img3)\n",
    "cv.imshow('mask3', mask3)\n",
    "cv.imshow('mask2', mask2)\n",
    "cv.imshow('mask1', mask1)\n",
    "cv.waitKey(0)\n",
    "cv.destroyAllWindows()"
   ]
  },
  {
   "cell_type": "markdown",
   "id": "cdde27db",
   "metadata": {},
   "source": [
    "Video "
   ]
  },
  {
   "cell_type": "code",
   "execution_count": null,
   "id": "91af0479",
   "metadata": {},
   "outputs": [],
   "source": [
    "import cv2 as cv \n",
    "cap=cv.VideoCapture(0)\n",
    "while(True):\n",
    "    res,img=cap.read()\n",
    "    img2 = cv.cvtColor(img, cv.COLOR_BGR2HSV)\n",
    "    ubb = (40,60,60)\n",
    "    uba =(60, 255,255)\n",
    "    mask=cv.inRange(img2,ubb,uba)\n",
    "    res=cv.bitwise_and(img,img,mask=mask)\n",
    "    cv.imshow('captura',mask)\n",
    "    if cv.waitKey(1) & 0xFF == ord('s'):\n",
    "        break\n",
    "       \n",
    "cap.release()\n",
    "cv.destroyAlllWindows()\n"
   ]
  },
  {
   "cell_type": "markdown",
   "id": "12fdafab",
   "metadata": {},
   "source": [
    "Data set de mi cara"
   ]
  },
  {
   "cell_type": "code",
   "execution_count": null,
   "id": "1b32c971",
   "metadata": {},
   "outputs": [],
   "source": [
    "import numpy as np\n",
    "import cv2 as cv\n",
    "import math \n",
    "\n",
    "rostro = cv.CascadeClassifier('haarcascade_frontalface_alt.xml')\n",
    "cap = cv.VideoCapture(0)\n",
    "i=0\n",
    "while True:\n",
    "    ret, frame = cap.read()\n",
    "    gray = cv.cvtColor(frame, cv.COLOR_BGR2GRAY)\n",
    "    rostros = rostro.detectMultiScale(gray, 1.3, 5)\n",
    "    for(x, y, w, h) in rostros:\n",
    "        frame = cv.rectangle(frame, (x,y), (x+w, y+h), (255, 0, 0), 5)\n",
    "        frame2=frame[y:y+h, x:x+w]\n",
    "        cv.imshow('rostros2',frame2)\n",
    "        cv.imwrite('C:/Users/crazu/Documents/rostros_img/Josu'+str(i)+'.png',frame2)\n",
    "    cv.imshow('rostros', frame)\n",
    "    i=i+1\n",
    "    k = cv.waitKey(1)\n",
    "    if k == 27:\n",
    "        break\n",
    "cap.release()\n",
    "cv.destroyAllWindows()"
   ]
  },
  {
   "cell_type": "markdown",
   "id": "8927a494",
   "metadata": {},
   "source": [
    "Eigenface"
   ]
  },
  {
   "cell_type": "code",
   "execution_count": null,
   "id": "694d74d9",
   "metadata": {},
   "outputs": [],
   "source": [
    "import numpy as np\n",
    "import cv2 as cv"
   ]
  },
  {
   "cell_type": "code",
   "execution_count": null,
   "id": "9e9a0a13",
   "metadata": {},
   "outputs": [],
   "source": [
    "def escala(imx, escala):\n",
    "    width =int(imx.shape[1] * escala / 100)\n",
    "    height =int(imx.shape[0] * escala / 100)\n",
    "    size = (width, height)\n",
    "    im = cv.resize(imx, size, interpolation = cv.INTER_AREA)\n",
    "    return im"
   ]
  },
  {
   "cell_type": "code",
   "execution_count": null,
   "id": "184ac6b1",
   "metadata": {},
   "outputs": [],
   "source": [
    "import math \n",
    "\n",
    "rostro = cv.CascadeClassifier('haarcascade_frontalface_alt.xml')\n",
    "cap = cv.VideoCapture(0)\n",
    "i=0\n",
    "while True:\n",
    "    ret, frame = cap.read()\n",
    "    gray = cv.cvtColor(frame, cv.COLOR_BGR2GRAY)\n",
    "    rostros = rostro.detectMultiScale(gray, 1.3, 5)\n",
    "    for(x, y, w, h) in rostros:\n",
    "        #frame = cv.rectangle(frame, (x,y), (x+w, y+h), (255, 0, 0), 5)\n",
    "        frame2=frame[y:y+h, x:x+w]\n",
    "        #cv.imshow('rostros2',frame2)\n",
    "        frame2 =  im = cv.resize(frame2, (100,100), interpolation = cv.INTER_AREA)\n",
    "        cv.imwrite('C:/Users/crazu/Documents/IA/caras/josu/josu'+str(i)+'.png',frame2)\n",
    "    cv.imshow('rostros', frame)\n",
    "    i=i+1\n",
    "    k = cv.waitKey(1)\n",
    "    if k == 27:\n",
    "        break\n",
    "cap.release()\n",
    "cv.destroyAllWindows()"
   ]
  },
  {
   "cell_type": "code",
   "execution_count": 4,
   "id": "10204bbe",
   "metadata": {},
   "outputs": [
    {
     "name": "stdout",
     "output_type": "stream",
     "text": [
      "['Alan', 'josu']\n",
      "373\n"
     ]
    },
    {
     "ename": "AttributeError",
     "evalue": "module 'cv2' has no attribute 'face'",
     "output_type": "error",
     "traceback": [
      "\u001b[1;31m---------------------------------------------------------------------------\u001b[0m",
      "\u001b[1;31mAttributeError\u001b[0m                            Traceback (most recent call last)",
      "Cell \u001b[1;32mIn[4], line 20\u001b[0m\n\u001b[0;32m     17\u001b[0m     label \u001b[38;5;241m=\u001b[39m label \u001b[38;5;241m+\u001b[39m \u001b[38;5;241m1\u001b[39m\n\u001b[0;32m     18\u001b[0m \u001b[38;5;28mprint\u001b[39m(np\u001b[38;5;241m.\u001b[39mcount_nonzero(np\u001b[38;5;241m.\u001b[39marray(labels)\u001b[38;5;241m==\u001b[39m\u001b[38;5;241m0\u001b[39m)) \n\u001b[1;32m---> 20\u001b[0m faceRecognizer \u001b[38;5;241m=\u001b[39m cv\u001b[38;5;241m.\u001b[39mface\u001b[38;5;241m.\u001b[39mEigenFaceRecognizer_create()\n\u001b[0;32m     21\u001b[0m faceRecognizer\u001b[38;5;241m.\u001b[39mtrain(facesData, np\u001b[38;5;241m.\u001b[39marray(labels))\n\u001b[0;32m     22\u001b[0m faceRecognizer\u001b[38;5;241m.\u001b[39mwrite(\u001b[38;5;124m'\u001b[39m\u001b[38;5;124mjosuEigenface.xml\u001b[39m\u001b[38;5;124m'\u001b[39m)\n",
      "\u001b[1;31mAttributeError\u001b[0m: module 'cv2' has no attribute 'face'"
     ]
    }
   ],
   "source": [
    "import cv2 as cv \n",
    "import numpy as np \n",
    "import os\n",
    "\n",
    "dataSet = 'C:/Users/crazu/Documents/IA/caras'\n",
    "faces  = os.listdir(dataSet)\n",
    "print(faces)\n",
    "\n",
    "labels = []\n",
    "facesData = []\n",
    "label = 0 \n",
    "for face in faces:\n",
    "    facePath = dataSet+'/'+face\n",
    "    for faceName in os.listdir(facePath):\n",
    "        labels.append(label)\n",
    "        facesData.append(cv.imread(facePath+'/'+faceName, 0))\n",
    "    label = label + 1\n",
    "print(np.count_nonzero(np.array(labels)==0)) \n",
    "\n",
    "faceRecognizer = cv.face_EigenFaceRecognizer_create()\n",
    "faceRecognizer.train(facesData, np.array(labels))\n",
    "faceRecognizer.write('josuEigenface.xml')\n"
   ]
  },
  {
   "cell_type": "code",
   "execution_count": null,
   "id": "5e3f413d",
   "metadata": {},
   "outputs": [],
   "source": [
    "['Alan','josu']"
   ]
  },
  {
   "cell_type": "code",
   "execution_count": null,
   "id": "3b947fe1",
   "metadata": {},
   "outputs": [],
   "source": [
    "import cv2 as cv\n",
    "import os \n",
    "\n",
    "faceRecognizer = cv.face.EigenFaceRecognizer_create()\n",
    "faceRecognizer.read('josuEigenface.xml')\n",
    "\n",
    "cap = cv.VideoCapture(0)\n",
    "rostro = cv.CascadeClassifier('haarcascade_frontalface_alt.xml')\n",
    "while True:\n",
    "    ret, frame = cap.read()\n",
    "    if ret == False: break\n",
    "    gray = cv.cvtColor(frame, cv.COLOR_BGR2GRAY)\n",
    "    cpGray = gray.copy()\n",
    "    rostros = rostro.detectMultiScale(gray, 1.3, 3)\n",
    "    for(x, y, w, h) in rostros:\n",
    "        frame2 = cpGray[y:y+h, x:x+w]\n",
    "        frame2 = cv.resize(frame2,  (100,100), interpolation=cv.INTER_CUBIC)\n",
    "        result = faceRecognizer.predict(frame2)\n",
    "        #cv.putText(frame, '{}'.format(result), (x,y-20), 1,3.3, (255,255,0), 1, cv.LINE_AA)\n",
    "        if result[1] > 2800:\n",
    "            cv.putText(frame,'{}'.format(faces[result[0]]),(x,y-25),2,1.1,(0,255,0),1,cv.LINE_AA)\n",
    "            cv.rectangle(frame, (x,y),(x+w,y+h),(0,255,0),2)\n",
    "        else:\n",
    "            cv.putText(frame,'Desconocido',(x,y-20),2,0.8,(0,0,255),1,cv.LINE_AA)\n",
    "            cv.rectangle(frame, (x,y),(x+w,y+h),(0,0,255),2)\n",
    "    cv.imshow('frame', frame)\n",
    "    k = cv.waitKey(1)\n",
    "    if k == 27:\n",
    "        break\n",
    "cap.release()\n",
    "cv.destroyAllWindows()"
   ]
  },
  {
   "cell_type": "code",
   "execution_count": null,
   "id": "cfe0abb7",
   "metadata": {},
   "outputs": [],
   "source": []
  }
 ],
 "metadata": {
  "kernelspec": {
   "display_name": "Python 3 (ipykernel)",
   "language": "python",
   "name": "python3"
  },
  "language_info": {
   "codemirror_mode": {
    "name": "ipython",
    "version": 3
   },
   "file_extension": ".py",
   "mimetype": "text/x-python",
   "name": "python",
   "nbconvert_exporter": "python",
   "pygments_lexer": "ipython3",
   "version": "3.11.5"
  }
 },
 "nbformat": 4,
 "nbformat_minor": 5
}
