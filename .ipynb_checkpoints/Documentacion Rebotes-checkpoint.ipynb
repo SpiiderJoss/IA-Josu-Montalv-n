{
 "cells": [
  {
   "cell_type": "markdown",
   "id": "023adccd",
   "metadata": {},
   "source": [
    "# Documentacion de juego rebotes"
   ]
  },
  {
   "cell_type": "markdown",
   "id": "799ce077",
   "metadata": {},
   "source": [
    "## Variables globales\n"
   ]
  },
  {
   "cell_type": "code",
   "execution_count": null,
   "id": "fea6b675",
   "metadata": {},
   "outputs": [],
   "source": [
    "var w=500;\n",
    "var h=400;\n",
    "\n",
    "var jugador;\n",
    "var fondo;\n",
    "var bala;\n",
    "var menu;\n",
    "var cursors;\n",
    "\n",
    "var key_der;\n",
    "var key_izq;\n",
    "var key_up;\n",
    "var key_down;\n",
    "\n",
    "var reset;\n",
    "var velocidadBala;\n",
    "var coordenada_X, coordenada_Y, dis_bala_jugador;\n",
    "\n",
    "var estado_der;\n",
    "var estado_izq;\n",
    "var estado_arriba;\n",
    "var estado_abajo;\n",
    "\n",
    "var jugadorPosInicial = { x: 230, y: 200 };\n",
    "var balaPosInicial = { x: w-10, y: h-10 };\n",
    "\n",
    "var timer = 0;\n",
    "var regresar = true;\n",
    "\n",
    "var nnNetwork , nnEntrenamiento, nnSalida, datosEntrenamiento=[];\n",
    "var modoAuto = false, eCompleto=false;\n",
    "\n",
    "var juego = new Phaser.Game(w, h, Phaser.CANVAS, '', { preload: preload, create: create, update: update, render:render});\n"
   ]
  },
  {
   "cell_type": "markdown",
   "id": "1aa7f01e",
   "metadata": {},
   "source": [
    "# Función preload\n",
    "### Esta función carga los recursos necesarios antes de que comience el juego."
   ]
  },
  {
   "cell_type": "code",
   "execution_count": null,
   "id": "6983fada",
   "metadata": {},
   "outputs": [],
   "source": [
    "function preload() { \n",
    "    juego.load.image('fondo', 'assets/game/background1.jpg');\n",
    "    juego.load.spritesheet('mono', 'assets/sprites/altair.png', 32, 48);\n",
    "    juego.load.image('menu', 'assets/game/menu.png');\n",
    "    juego.load.image('bala', 'assets/sprites/purple_ball.png');\n",
    "}\n"
   ]
  },
  {
   "cell_type": "markdown",
   "id": "4ef5b524",
   "metadata": {},
   "source": [
    "# Función create\n",
    "### Esta función inicializa los elementos del juego y configura las propiedades físicas y de entrada."
   ]
  },
  {
   "cell_type": "code",
   "execution_count": null,
   "id": "d1751a84",
   "metadata": {},
   "outputs": [],
   "source": [
    "function create() { \n",
    "    cursors = this.input.keyboard.createCursorKeys(); \n",
    "    juego.physics.startSystem(Phaser.Physics.ARCADE); \n",
    "    juego.time.desiredFps = 30; \n",
    "    fondo = juego.add.tileSprite(0, 0, w, h, 'fondo');\n",
    "    bala = juego.add.sprite(balaPosInicial.x, balaPosInicial.y, 'bala');\n",
    "    jugador = juego.add.sprite(jugadorPosInicial.x, jugadorPosInicial.y, 'mono');\n",
    "    juego.physics.enable(jugador); \n",
    "    jugador.body.collideWorldBounds = true; \n",
    "    jugador.body.gravity.y = 0; \n",
    "    juego.physics.enable(bala); \n",
    "    bala.body.collideWorldBounds = true; \n",
    "    bala.body.bounce.set(1); \n",
    "    bala.body.velocity.set(600); \n",
    "\n",
    "    pausaL = juego.add.text(w - 100, 20, 'Pausa', { font: '20px Arial', fill: '#fff' }); \n",
    "    pausaL.inputEnabled = true; \n",
    "    pausaL.events.onInputUp.add(pausa, self); \n",
    "    juego.input.onDown.add(mPausa, self); \n",
    "\n",
    "    key_der = juego.input.keyboard.addKey(Phaser.Keyboard.RIGHT);\n",
    "    key_izq = juego.input.keyboard.addKey(Phaser.Keyboard.LEFT);\n",
    "    key_up = juego.input.keyboard.addKey(Phaser.Keyboard.UP);\n",
    "    key_down = juego.input.keyboard.addKey(Phaser.Keyboard.DOWN);\n",
    "\n",
    "    nnNetwork =  new synaptic.Architect.Perceptron(3,6,6,4);   // (3,3,6,4) (3,6,6,4) (3,3,6,3,4) (3,6,6,6,4)\n",
    "    nnEntrenamiento = new synaptic.Trainer(nnNetwork); \n",
    "}\n"
   ]
  },
  {
   "cell_type": "markdown",
   "id": "7f04680a",
   "metadata": {},
   "source": [
    "# Función enRedNeural\n",
    "### Esta función entrena la red neuronal con los datos de entrenamiento acumulados."
   ]
  },
  {
   "cell_type": "code",
   "execution_count": null,
   "id": "5db96a99",
   "metadata": {},
   "outputs": [],
   "source": [
    "function enRedNeural(){ \n",
    "    nnEntrenamiento.train(datosEntrenamiento, {rate: 0.0003, iterations: 15000, shuffle: true});\n",
    "    console.log(\"Entrenamiento Terminado\")\n",
    "}\n"
   ]
  },
  {
   "cell_type": "markdown",
   "id": "fc12b1a0",
   "metadata": {},
   "source": [
    "# Función datosDeEntrenamiento\n",
    "### Esta función utiliza la red neuronal para tomar decisiones basadas en los datos de entrada."
   ]
  },
  {
   "cell_type": "code",
   "execution_count": null,
   "id": "34ba2c8a",
   "metadata": {},
   "outputs": [],
   "source": [
    "function datosDeEntrenamiento(param_entrada){ \n",
    "    console.log(\"Input: dis_bala_jugador: \"+param_entrada[0]+\" coordenada_X: \"+param_entrada[1]+\" coordenada_Y: \"+param_entrada[2]); \n",
    "    nnSalida = nnNetwork.activate(param_entrada);\n",
    "   \n",
    "    var porcentajeArriba = Math.round(nnSalida[0] * 100);\n",
    "    var porcentajeAbajo = Math.round(nnSalida[1] * 100);\n",
    "    var porcentajeDerecha = Math.round(nnSalida[2] * 100);\n",
    "    var porcentajeIzquierda = Math.round(nnSalida[3] * 100);\n",
    "\n",
    "    console.log(\"Arriba: \"+porcentajeArriba + \" Abajo: \"+porcentajeAbajo +\" Der: \"+porcentajeDerecha + \" Izq: \"+porcentajeIzquierda);\n",
    "    \n",
    "    var maxValue = Math.max(nnSalida[0], nnSalida[1], nnSalida[2], nnSalida[3]);\n",
    "    var minValue = Math.min(nnSalida[0], nnSalida[1], nnSalida[2], nnSalida[3]);\n",
    "    var umbral = maxValue - minValue;           \n",
    "    var accion = nnSalida.indexOf(maxValue); \n",
    "\n",
    "    if (umbral < 0.01) {  \n",
    "        return 4; \n",
    "    }\n",
    "    return accion;   \n",
    "}\n"
   ]
  },
  {
   "cell_type": "markdown",
   "id": "831d5bfd",
   "metadata": {},
   "source": [
    "# Función pausa\n",
    "### Esta función pausa el juego y muestra el menú de pausa."
   ]
  },
  {
   "cell_type": "code",
   "execution_count": null,
   "id": "257e43f8",
   "metadata": {},
   "outputs": [],
   "source": [
    "function pausa() {\n",
    "    juego.paused = true;\n",
    "    menu = juego.add.sprite(w/2, h/2, 'menu');\n",
    "    menu.anchor.setTo(0.5, 0.5);\n",
    "}\n"
   ]
  },
  {
   "cell_type": "markdown",
   "id": "e0c95dcd",
   "metadata": {},
   "source": [
    "# Función mPausa\n",
    "### Esta función maneja los eventos de pausa y el menú."
   ]
  },
  {
   "cell_type": "code",
   "execution_count": null,
   "id": "c50bf2f7",
   "metadata": {},
   "outputs": [],
   "source": [
    "function mPausa(event){     \n",
    "    if(juego.paused){ \n",
    "            var menu_x1 = w/2 - 270/2, menu_x2 = w/2 + 270/2,\n",
    "            menu_y1 = h/2 - 180/2, menu_y2 = h/2 + 180/2;\n",
    "            var mouse_x = event.x , mouse_y = event.y;\n",
    "     if(mouse_x > menu_x1 && mouse_x < menu_x2 && mouse_y > menu_y1 && mouse_y < menu_y2 ){\n",
    "            if(mouse_x >=menu_x1 && mouse_x <=menu_x2 && mouse_y >=menu_y1+90 && mouse_y <=menu_y2) {  \n",
    "                eCompleto=false; \n",
    "                datosEntrenamiento = []; \n",
    "                modoAuto = false; \n",
    "            } else if (mouse_x >=menu_x1 && mouse_x <=menu_x2 && mouse_y >=menu_y1+90 && mouse_y <=menu_y2) { \n",
    "                if(!eCompleto) { \n",
    "                    console.log(\"Datos de Entrenamiento: \"+ datosEntrenamiento.length +\" valores\" );\n",
    "                    enRedNeural(); \n",
    "                    eCompleto=true; \n",
    "                }\n",
    "                modoAuto = true; \n",
    "            }\n",
    "            resetVariables();  \n",
    "            menu.destroy(); \n",
    "            juego.paused = false; \n",
    "        }\n",
    "    }\n",
    "}\n"
   ]
  },
  {
   "cell_type": "markdown",
   "id": "7293d38c",
   "metadata": {},
   "source": [
    "# Función resetVariables\n",
    "### Esta función reinicia las variables y posiciones del juego."
   ]
  },
  {
   "cell_type": "code",
   "execution_count": null,
   "id": "af4c68db",
   "metadata": {},
   "outputs": [],
   "source": [
    "function resetVariables(){\n",
    "    velocidadBala = 450;\n",
    "    bala.body.velocity.x = velocidadBala;\n",
    "    bala.body.velocity.y = -velocidadBala;\n",
    "    bala.position.x = balaPosInicial.x; \n",
    "    bala.position.y = balaPosInicial.y; \n",
    "    key_der.isDown = true;\n",
    "    key_down.isDown=false;\n",
    "    key_izq.isDown=false;\n",
    "    key_up.isDown=false;\n",
    "    jugador.position.x=230;\n",
    "    jugador.position.y=200;\n",
    "}\n"
   ]
  },
  {
   "cell_type": "markdown",
   "id": "889bf8bb",
   "metadata": {},
   "source": [
    "# Funciones de Movimiento\n",
    "### Estas funciones mueven al jugador a las diferentes posiciones."
   ]
  },
  {
   "cell_type": "code",
   "execution_count": null,
   "id": "ccbdbfe9",
   "metadata": {},
   "outputs": [],
   "source": [
    "function derecha(){\n",
    "    jugador.position.x = 380;\n",
    "    jugador.position.y=200;\n",
    "    estado_der=1;\n",
    "    estado_izq=0;\n",
    "    regresar=false;\n",
    "}\n",
    "\n",
    "function izquierda(){\n",
    "    jugador.position.x = 80;\n",
    "    jugador.position.y=200;\n",
    "    estado_der=0;\n",
    "    estado_izq=1;\n",
    "    regresar=false;\n",
    "}\n",
    "\n",
    "function arriba(){\n",
    "    jugador.position.x =230;\n",
    "    jugador.position.y=80;\n",
    "    estado_arriba=1;\n",
    "    estado_abajo=0;\n",
    "    regresar=false;\n",
    "}\n",
    "function abajo(){\n",
    "    jugador.position.x =230;\n",
    "    jugador.position.y=320;\n",
    "    estado_arriba=0;\n",
    "    estado_abajo=1;\n",
    "    regresar=false;\n",
    "}\n"
   ]
  },
  {
   "cell_type": "markdown",
   "id": "34d7b7cd",
   "metadata": {},
   "source": [
    "# Función update\n",
    "### Esta función se llama en cada frame y maneja la lógica del juego."
   ]
  },
  {
   "cell_type": "code",
   "execution_count": null,
   "id": "336f32f0",
   "metadata": {},
   "outputs": [],
   "source": [
    "function update() { \n",
    "\n",
    "    if(key_der && key_izq && key_down && key_up) {\n",
    "        jugador.position.x=230;\n",
    "        jugador.position.y=200;\n",
    "    }\n",
    "    \n",
    "    if (!regresar) {\n",
    "         timer += 1; \n",
    "    }\n",
    "    posicion_inical();\n",
    "\n",
    "    estado_der = 0;\n",
    "    estado_izq = 0;\n",
    "    estado_arriba = 0;\n",
    "    estado_abajo = 0;\n",
    "    \n",
    "    coordenada_X = bala.position.x - jugador.position.x;  // Diferencia de las coordenadas para detectar el cuadrante\n",
    "    coordenada_Y = bala.position.y - jugador.position.y;  // Diferencia de las coordenadas para detectar el cuadrante \n",
    "    dis_bala_jugador = Math.sqrt(coordenada_X * coordenada_X + coordenada_Y * coordenada_Y); // Fórmula de distancia bala-jugador\n",
    "\n",
    "    if (key_der.isDown) { \n",
    "        jugador.position.x = 380;\n",
    "        jugador.position.y = 200;\n",
    "        estado_der = 1;\n",
    "        estado_izq = 0;\n",
    "        regresar = false;\n",
    "    } else if (key_izq.isDown) {\n",
    "        jugador.position.x = 80;\n",
    "        jugador.position.y = 200;\n",
    "        estado_der = 0;\n",
    "        estado_izq = 1;\n",
    "        regresar = false;\n",
    "    }\n",
    "    if (key_up.isDown) { \n",
    "        jugador.position.x = 230;\n",
    "        jugador.position.y = 80;\n",
    "        estado_arriba = 1;\n",
    "        estado_abajo = 0;\n",
    "        regresar = false;\n",
    "    } else if (key_down.isDown) {\n",
    "        jugador.position.x = 230;\n",
    "        jugador.position.y = 320;\n",
    "        estado_arriba = 0;\n",
    "        estado_abajo = 1;\n",
    "        regresar = false;\n",
    "    }\n",
    "        \n",
    "    if (modoAuto == true && dis_bala_jugador <= 200) {\n",
    "        var decision = datosDeEntrenamiento([dis_bala_jugador, coordenada_X, coordenada_Y]);\n",
    "        if (decision === 0) arriba();\n",
    "        else if (decision === 1) abajo();\n",
    "        else if (decision === 2) derecha();\n",
    "        else if (decision === 3) izquierda();    \n",
    "    }\n",
    "\n",
    "    juego.physics.arcade.collide(bala, jugador, colisionH, null, this);\n",
    "    \n",
    "\n",
    "    if (modoAuto == false) {\n",
    "        var nuevoDatoEntrenamiento = { \n",
    "            'input': [dis_bala_jugador, coordenada_X, coordenada_Y], \n",
    "            'output': [estado_arriba, estado_abajo, estado_der, estado_izq]\n",
    "        };\n",
    "        datosEntrenamiento.push(nuevoDatoEntrenamiento);\n",
    "        console.log({\n",
    "            dis_bala_jugador: dis_bala_jugador,\n",
    "            coordenada_X: coordenada_X,\n",
    "            coordenada_Y: coordenada_Y,\n",
    "            estado_arriba: estado_arriba,\n",
    "            estado_abajo: estado_abajo,\n",
    "            estado_der: estado_der,\n",
    "            estado_izq: estado_izq\n",
    "        });\n",
    "    }\n",
    "}\n"
   ]
  },
  {
   "cell_type": "markdown",
   "id": "5059a3c3",
   "metadata": {},
   "source": [
    "# Función posicion_inical\n",
    "### Esta función regresa al jugador a su posición inicial después de un tiempo."
   ]
  },
  {
   "cell_type": "code",
   "execution_count": null,
   "id": "e6253161",
   "metadata": {},
   "outputs": [],
   "source": [
    "function posicion_inical(){\n",
    "    if (timer > 25) {\n",
    "        jugador.position.x = Phaser.Math.linear(jugador.position.x, 230, 0.5); \n",
    "        jugador.position.y = Phaser.Math.linear(jugador.position.y, 200, 0.5);\n",
    "        if (Math.abs(jugador.position.x - 230) < 1 && Math.abs(jugador.position.y - 200) < 1) {\n",
    "            regresar = true;\n",
    "            timer = 0;\n",
    "            jugador.position.x = 230;\n",
    "            jugador.position.y = 200;\n",
    "        }\n",
    "    }\n",
    "}\n"
   ]
  },
  {
   "cell_type": "markdown",
   "id": "85696cee",
   "metadata": {},
   "source": [
    "# Función colisionH\n",
    "### Esta función maneja la colisión entre la bala y el jugador, pausando el juego."
   ]
  },
  {
   "cell_type": "code",
   "execution_count": null,
   "id": "9b08cf54",
   "metadata": {},
   "outputs": [],
   "source": [
    "function colisionH(){  \n",
    "    pausa();     \n",
    "}\n"
   ]
  },
  {
   "cell_type": "markdown",
   "id": "71b0cca8",
   "metadata": {},
   "source": [
    "# Función render\n",
    "### Esta función dibuja textos de depuración en la pantalla."
   ]
  },
  {
   "cell_type": "code",
   "execution_count": null,
   "id": "e8ed7a7f",
   "metadata": {},
   "outputs": [],
   "source": [
    "function render(){\n",
    "  juego.debug.text(\n",
    "    \"Modo Auto: \" + (modoAuto ? \"Activado\" : \"Desactivado\"),\n",
    "    20,\n",
    "    30\n",
    "  );\n",
    "  juego.debug.text(\n",
    "    \"Entrenamiento: \" + datosEntrenamiento.length + \" valores\",\n",
    "    20,\n",
    "    50\n",
    "  );\n",
    "}\n"
   ]
  },
  {
   "cell_type": "markdown",
   "id": "1ab5cdc3",
   "metadata": {},
   "source": [
    "# Creditos\n",
    "### Josué Montalván Zavala 20120137"
   ]
  },
  {
   "cell_type": "code",
   "execution_count": null,
   "id": "0d819dea",
   "metadata": {},
   "outputs": [],
   "source": []
  }
 ],
 "metadata": {
  "kernelspec": {
   "display_name": "Python 3 (ipykernel)",
   "language": "python",
   "name": "python3"
  },
  "language_info": {
   "codemirror_mode": {
    "name": "ipython",
    "version": 3
   },
   "file_extension": ".py",
   "mimetype": "text/x-python",
   "name": "python",
   "nbconvert_exporter": "python",
   "pygments_lexer": "ipython3",
   "version": "3.11.5"
  }
 },
 "nbformat": 4,
 "nbformat_minor": 5
}
