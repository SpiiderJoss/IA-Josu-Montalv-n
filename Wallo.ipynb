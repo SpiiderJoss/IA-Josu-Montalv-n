{
 "cells": [
  {
   "cell_type": "markdown",
   "id": "dca0fdda",
   "metadata": {},
   "source": [
    "# Encontrar a wally"
   ]
  },
  {
   "cell_type": "markdown",
   "id": "928aafa8-e347-46db-ac11-7f9accb74718",
   "metadata": {},
   "source": [
    "##### Codigo para encontrarlo mediante el xml"
   ]
  },
  {
   "cell_type": "code",
   "execution_count": null,
   "id": "b843daa6",
   "metadata": {},
   "outputs": [
    {
     "name": "stdout",
     "output_type": "stream",
     "text": [
      "Clasificador cargado correctamente desde C:\\Users\\crazu\\Documents\\Inteligencia artificial\\cascad.xml\n",
      "Imagen cargada correctamente desde C:\\Users\\crazu\\Downloads\\walo1.png\n"
     ]
    }
   ],
   "source": [
    "import numpy as np\n",
    "import cv2 as cv\n",
    "\n",
    "# Ruta del clasificador entrenado y la imagen de Wally\n",
    "classifier_path = 'C:\\\\Users\\\\crazu\\\\Documents\\\\Inteligencia artificial\\\\cascad.xml'\n",
    "# ----------------------------------------------------------------------------------------------------------\n",
    "img_path = 'C:\\\\Users\\\\crazu\\\\Downloads\\\\walo1.png'\n",
    "# Cargar el clasificador entrenado\n",
    "rostro = cv.CascadeClassifier(classifier_path)\n",
    "\n",
    "if rostro.empty():\n",
    "    print(f\"Error: no se pudo cargar el clasificador desde {classifier_path}\")\n",
    "else:\n",
    "    print(f\"Clasificador cargado correctamente desde {classifier_path}\")\n",
    "# ----------------------------------------------------------------------------------------------------------------\n",
    "# Cargar la imagen de Wally\n",
    "img = cv.imread(img_path)\n",
    "\n",
    "if img is None:\n",
    "    print(f\"Error: no se pudo cargar la imagen desde {img_path}\")\n",
    "else:\n",
    "    print(f\"Imagen cargada correctamente desde {img_path}\")\n",
    "\n",
    "    # Convertir la imagen a escala de grises\n",
    "    gray = cv.cvtColor(img, cv.COLOR_BGR2GRAY)\n",
    "\n",
    "    # Detectar rostros en la imagen\n",
    "    rostros = rostro.detectMultiScale(gray, 1.005, minNeighbors=120, minSize=(50,50))\n",
    "\n",
    "    # Dibujar los contornos alrededor de los rostros detectados\n",
    "    for (x, y, w, h) in rostros:\n",
    "        cv.rectangle(img, (x, y), (x+w, y+h), (255, 0, 0), 3)\n",
    "\n",
    "    # Mostrar la imagen con los rostros detectados y los cuadrados azules\n",
    "    cv.imshow('Detección de Wally', img)\n",
    "    cv.waitKey(0)\n",
    "    cv.destroyAllWindows()\n"
   ]
  },
  {
   "cell_type": "markdown",
   "id": "6e2202d0-fb56-49ca-9d88-9d08b5b3e90a",
   "metadata": {},
   "source": []
  },
  {
   "cell_type": "code",
   "execution_count": null,
   "id": "9c65a847-5233-4fd7-aa33-34c5d478650f",
   "metadata": {},
   "outputs": [],
   "source": []
  },
  {
   "cell_type": "markdown",
   "id": "f261ef04",
   "metadata": {},
   "source": [
    "# Rotar las imagenes\n"
   ]
  },
  {
   "cell_type": "code",
   "execution_count": null,
   "id": "572e80b3",
   "metadata": {},
   "outputs": [],
   "source": [
    "import os\n",
    "import cv2 as cv\n",
    "\n",
    "def rota(img, i, output_dir):\n",
    "    h, w = img.shape[:2]\n",
    "    mw = cv.getRotationMatrix2D((h//2, w//2), -10, -1)\n",
    "    img2 = cv.warpAffine(img, mw, (h, w))\n",
    "    output_path = os.path.join(output_dir, 'p1' + str(i) + '.jpg')\n",
    "    cv.imwrite(output_path, img2)\n",
    "\n",
    "def rotate_images_in_directory(input_dir, output_dir):\n",
    "    if not os.path.exists(output_dir):\n",
    "        os.makedirs(output_dir)\n",
    "\n",
    "    # Enumerar todos los archivos en el directorio de entrada\n",
    "    filenames = os.listdir(input_dir)\n",
    "    \n",
    "    # Filtrar sólo archivos de imagen (por ejemplo, con extensiones .jpg, .jpeg, .png)\n",
    "    image_files = [f for f in filenames if f.lower().endswith(('.jpg', '.jpeg', '.png'))]\n",
    "\n",
    "    for i, filename in enumerate(image_files):\n",
    "        input_path = os.path.join(input_dir, filename)\n",
    "        img = cv.imread(input_path)\n",
    "        if img is not None:\n",
    "            rota(img, i, output_dir)\n",
    "        else:\n",
    "            print(f'Error al cargar la imagen: {input_path}')\n",
    "\n",
    "# Directorio de entrada y salida\n",
    "input_dir = 'C:/Users/crazu/Documents/Inteligencia artificial/Wallo/p'\n",
    "output_dir = 'C:/Users/crazu/Documents/Inteligencia artificial/Wallo/p1'\n",
    "\n",
    "# Rotar todas las imágenes en el directorio de entrada\n",
    "rotate_images_in_directory(input_dir, output_dir)\n"
   ]
  },
  {
   "cell_type": "markdown",
   "id": "3f132360",
   "metadata": {},
   "source": [
    "# Redimencionar imagenes\n"
   ]
  },
  {
   "cell_type": "markdown",
   "id": "277deca8-7506-4cc4-83aa-54c5e76f78ee",
   "metadata": {},
   "source": [
    "### Fue necesario cambiar el tamaño de algunas imagenes para el entrenamiento "
   ]
  },
  {
   "cell_type": "code",
   "execution_count": null,
   "id": "f9d51574",
   "metadata": {},
   "outputs": [],
   "source": [
    "import cv2\n",
    "import os\n",
    "\n",
    "def resize_images(input_folder, output_folder, size=(50, 50)):\n",
    "    # Crear la carpeta de salida si no existe\n",
    "    if not os.path.exists(output_folder):\n",
    "        os.makedirs(output_folder)\n",
    "\n",
    "    # Contador para el número de imágenes procesadas\n",
    "    num_images_processed = 0\n",
    "\n",
    "    # Recorrer todos los archivos en la carpeta de entrada\n",
    "    for filename in os.listdir(input_folder):\n",
    "        if filename.lower().endswith(('.jpg', '.png', '.jpeg', '.bmp', '.gif')):\n",
    "            img_path = os.path.join(input_folder, filename)\n",
    "            img = cv2.imread(img_path)\n",
    "\n",
    "            if img is not None:\n",
    "                # Convertir a escala de grises\n",
    "                gray_img = cv2.cvtColor(img, cv2.COLOR_BGR2GRAY)\n",
    "                # Redimensionar la imagen\n",
    "                resized_img = cv2.resize(gray_img, size)\n",
    "                # Construir la ruta de salida\n",
    "                output_path = os.path.join(output_folder, filename)\n",
    "                # Guardar la imagen redimensionada en escala de grises\n",
    "                cv2.imwrite(output_path, resized_img)\n",
    "                num_images_processed += 1\n",
    "            else:\n",
    "                print(f\"No se pudo leer la imagen {filename}\")\n",
    "        else:\n",
    "            print(f\"El archivo {filename} no es una imagen soportada, se omitirá\")\n",
    "\n",
    "    print(f\"Proceso finalizado: {num_images_processed} imágenes redimensionadas y guardadas en {output_folder}\")\n",
    "\n",
    "# Directorio de entrada y salida\n",
    "input_folder = 'C:/Users/crazu/Documents/Inteligencia artificial/Wallo/n'  # Cambia esto a la ruta de tu carpeta de entrada\n",
    "output_folder = 'C:/Users/crazu/Documents/Inteligencia artificial/Wallo/n1'  # Cambia esto a la ruta de tu carpeta de salida\n",
    "\n",
    "resize_images(input_folder, output_folder)\n"
   ]
  },
  {
   "cell_type": "markdown",
   "id": "d5b74786",
   "metadata": {},
   "source": []
  },
  {
   "cell_type": "code",
   "execution_count": null,
   "id": "b394ffbd",
   "metadata": {},
   "outputs": [],
   "source": []
  },
  {
   "cell_type": "code",
   "execution_count": null,
   "id": "89117cfa",
   "metadata": {},
   "outputs": [],
   "source": []
  }
 ],
 "metadata": {
  "kernelspec": {
   "display_name": "Python 3 (ipykernel)",
   "language": "python",
   "name": "python3"
  },
  "language_info": {
   "codemirror_mode": {
    "name": "ipython",
    "version": 3
   },
   "file_extension": ".py",
   "mimetype": "text/x-python",
   "name": "python",
   "nbconvert_exporter": "python",
   "pygments_lexer": "ipython3",
   "version": "3.11.5"
  }
 },
 "nbformat": 4,
 "nbformat_minor": 5
}
