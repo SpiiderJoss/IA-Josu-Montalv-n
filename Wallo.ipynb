{
 "cells": [
  {
   "cell_type": "markdown",
   "id": "dca0fdda",
   "metadata": {},
   "source": [
    "# Encontrar a wally"
   ]
  },
  {
   "cell_type": "markdown",
   "id": "928aafa8-e347-46db-ac11-7f9accb74718",
   "metadata": {},
   "source": [
    "##### Codigo para encontrarlo mediante el xml"
   ]
  },
  {
   "cell_type": "code",
   "execution_count": null,
   "id": "b843daa6",
   "metadata": {},
   "outputs": [],
   "source": [
    "import numpy as np\n",
    "import cv2 as cv\n",
    "import os\n",
    "\n",
    "\n",
    "image = cv.imread('C:\\\\Users\\\\crazu\\\\Downloads\\\\1wallo.jpg')\n",
    "gray = cv.cvtColor(image, cv.COLOR_BGR2GRAY)\n",
    "\n",
    "wally = cv.CascadeClassifier('C:\\\\Users\\\\crazu\\\\Documents\\\\Inteligencia artificial\\\\Wallo\\\\cascade.xml')\n",
    "#wally = cv.CascadeClassifier('C:\\\\Users\\\\crazu\\\\Desktop\\\\cascade.xml')\n",
    "\n",
    "minSize = 50\n",
    "waldo_detections = wally.detectMultiScale(gray, scaleFactor=1.01, minNeighbors=120, minSize=(minSize,minSize))\n",
    "\n",
    "for (x, y, w, h) in waldo_detections:\n",
    "    cv.rectangle(image, (x, y), (x+w, y+h), (0, 255, 0), 2)\n",
    "    cv.putText(image, 'Wally', (x, y-10), cv.FONT_HERSHEY_SIMPLEX, 0.9, (0, 255, 0), 2)\n",
    "\n",
    "\n",
    "cv.imshow('William Wallace', image)\n",
    "cv.waitKey(0)\n",
    "cv.destroyAllWindows()"
   ]
  },
  {
   "cell_type": "code",
   "execution_count": null,
   "id": "d5247306-d7cf-4330-8bf4-94479710c0d0",
   "metadata": {},
   "outputs": [],
   "source": [
    "import numpy as np\n",
    "import cv2 as cv\n",
    "import os\n",
    "\n",
    "# Cargar la imagen\n",
    "image = cv.imread('C:\\\\Users\\\\crazu\\\\Downloads\\\\1wallo.jpg')\n",
    "gray = cv.cvtColor(image, cv.COLOR_BGR2GRAY)\n",
    "\n",
    "# Cargar el clasificador\n",
    "wally = cv.CascadeClassifier('C:\\\\Users\\\\crazu\\\\Documents\\\\Inteligencia artificial\\\\cascade.xml')\n",
    "\n",
    "# Detección de Wally\n",
    "waldo_detections = wally.detectMultiScale(gray, scaleFactor=1.10, minNeighbors=120, minSize=(70, 70))\n",
    "\n",
    "# Ajustar las coordenadas si es necesario\n",
    "adjust_x, adjust_y = 0, 0  # Ajusta estos valores si es necesario\n",
    "\n",
    "# Dibujar los rectángulos de detección\n",
    "for (x, y, w, h) in waldo_detections:\n",
    "    adjusted_x = x + adjust_x\n",
    "    adjusted_y = y + adjust_y\n",
    "    cv.rectangle(image, (adjusted_x, adjusted_y), (adjusted_x + w, adjusted_y + h), (255, 0, 0), 2)\n",
    "\n",
    "# Mostrar la imagen\n",
    "cv.imshow('William Wallace', image)\n",
    "cv.waitKey(0)\n",
    "cv.destroyAllWindows()"
   ]
  },
  {
   "cell_type": "markdown",
   "id": "6e2202d0-fb56-49ca-9d88-9d08b5b3e90a",
   "metadata": {},
   "source": [
    "# Detectar negativos dificiles"
   ]
  },
  {
   "cell_type": "code",
   "execution_count": null,
   "id": "9c65a847-5233-4fd7-aa33-34c5d478650f",
   "metadata": {},
   "outputs": [],
   "source": [
    "import cv2\n",
    "import os\n",
    "\n",
    "# Ruta del clasificador en cascada\n",
    "cascade_path = 'C:/Users/crazu/Downloads/cascade.xml'\n",
    "\n",
    "# Cargar el clasificador en cascada\n",
    "wally = cv2.CascadeClassifier(cascade_path)\n",
    "\n",
    "# Directorio con imágenes negativas\n",
    "negative_images_dir = 'C:/Users/crazu/Documents/Inteligencia artificial/Wallo/n'\n",
    "\n",
    "# Crear un directorio para almacenar negativos difíciles\n",
    "hard_negatives_dir = 'C:/Users/crazu/Documents/Inteligencia artificial/Wallo/hard-n'\n",
    "os.makedirs(hard_negatives_dir, exist_ok=True)\n",
    "\n",
    "# Procesar cada imagen negativa\n",
    "for filename in os.listdir(negative_images_dir):\n",
    "    image_path = os.path.join(negative_images_dir, filename)\n",
    "    image = cv2.imread(image_path)\n",
    "    \n",
    "    if image is None:\n",
    "        continue\n",
    "    \n",
    "    gray = cv2.cvtColor(image, cv2.COLOR_BGR2GRAY)\n",
    "    \n",
    "    # Detectar falsos positivos\n",
    "    detections = wally.detectMultiScale(gray, scaleFactor=1.02, minNeighbors=3)\n",
    "    \n",
    "    # Si hay detecciones, guardar las regiones como negativos difíciles\n",
    "    for i, (x, y, w, h) in enumerate(detections):\n",
    "        hard_negative = image[y:y+h, x:x+w]\n",
    "        hard_negative_path = os.path.join(hard_negatives_dir, f\"{filename}_hn_{i}.jpg\")\n",
    "        cv2.imwrite(hard_negative_path, hard_negative)\n"
   ]
  },
  {
   "cell_type": "markdown",
   "id": "f261ef04",
   "metadata": {},
   "source": [
    "Rotar las imagenes\n"
   ]
  },
  {
   "cell_type": "code",
   "execution_count": null,
   "id": "572e80b3",
   "metadata": {},
   "outputs": [],
   "source": [
    "import os\n",
    "import cv2 as cv\n",
    "\n",
    "def rota(img, i, output_dir):\n",
    "    h, w = img.shape[:2]\n",
    "    mw = cv.getRotationMatrix2D((h//2, w//2), -10, -1)\n",
    "    img2 = cv.warpAffine(img, mw, (h, w))\n",
    "    output_path = os.path.join(output_dir, 'p1' + str(i) + '.jpg')\n",
    "    cv.imwrite(output_path, img2)\n",
    "\n",
    "def rotate_images_in_directory(input_dir, output_dir):\n",
    "    if not os.path.exists(output_dir):\n",
    "        os.makedirs(output_dir)\n",
    "\n",
    "    # Enumerar todos los archivos en el directorio de entrada\n",
    "    filenames = os.listdir(input_dir)\n",
    "    \n",
    "    # Filtrar sólo archivos de imagen (por ejemplo, con extensiones .jpg, .jpeg, .png)\n",
    "    image_files = [f for f in filenames if f.lower().endswith(('.jpg', '.jpeg', '.png'))]\n",
    "\n",
    "    for i, filename in enumerate(image_files):\n",
    "        input_path = os.path.join(input_dir, filename)\n",
    "        img = cv.imread(input_path)\n",
    "        if img is not None:\n",
    "            rota(img, i, output_dir)\n",
    "        else:\n",
    "            print(f'Error al cargar la imagen: {input_path}')\n",
    "\n",
    "# Directorio de entrada y salida\n",
    "input_dir = 'C:/Users/crazu/Documents/Inteligencia artificial/Wallo/p'\n",
    "output_dir = 'C:/Users/crazu/Documents/Inteligencia artificial/Wallo/p1'\n",
    "\n",
    "# Rotar todas las imágenes en el directorio de entrada\n",
    "rotate_images_in_directory(input_dir, output_dir)\n"
   ]
  },
  {
   "cell_type": "markdown",
   "id": "3f132360",
   "metadata": {},
   "source": [
    "# Redimencionar imagenes\n"
   ]
  },
  {
   "cell_type": "markdown",
   "id": "277deca8-7506-4cc4-83aa-54c5e76f78ee",
   "metadata": {},
   "source": [
    "### Fue necesario cambiar el tamaño de algunas imagenes para el entrenamiento "
   ]
  },
  {
   "cell_type": "code",
   "execution_count": null,
   "id": "f9d51574",
   "metadata": {},
   "outputs": [],
   "source": [
    "import cv2\n",
    "import os\n",
    "\n",
    "def resize_images(input_folder, output_folder, size=(50, 50)):\n",
    "    # Crear la carpeta de salida si no existe\n",
    "    if not os.path.exists(output_folder):\n",
    "        os.makedirs(output_folder)\n",
    "\n",
    "    # Contador para el número de imágenes procesadas\n",
    "    num_images_processed = 0\n",
    "\n",
    "    # Recorrer todos los archivos en la carpeta de entrada\n",
    "    for filename in os.listdir(input_folder):\n",
    "        if filename.lower().endswith(('.jpg', '.png', '.jpeg', '.bmp', '.gif')):\n",
    "            img_path = os.path.join(input_folder, filename)\n",
    "            img = cv2.imread(img_path)\n",
    "\n",
    "            if img is not None:\n",
    "                # Convertir a escala de grises\n",
    "                gray_img = cv2.cvtColor(img, cv2.COLOR_BGR2GRAY)\n",
    "                # Redimensionar la imagen\n",
    "                resized_img = cv2.resize(gray_img, size)\n",
    "                # Construir la ruta de salida\n",
    "                output_path = os.path.join(output_folder, filename)\n",
    "                # Guardar la imagen redimensionada en escala de grises\n",
    "                cv2.imwrite(output_path, resized_img)\n",
    "                num_images_processed += 1\n",
    "            else:\n",
    "                print(f\"No se pudo leer la imagen {filename}\")\n",
    "        else:\n",
    "            print(f\"El archivo {filename} no es una imagen soportada, se omitirá\")\n",
    "\n",
    "    print(f\"Proceso finalizado: {num_images_processed} imágenes redimensionadas y guardadas en {output_folder}\")\n",
    "\n",
    "# Directorio de entrada y salida\n",
    "input_folder = 'C:/Users/crazu/Documents/Inteligencia artificial/Wallo/p'  # Cambia esto a la ruta de tu carpeta de entrada\n",
    "output_folder = 'C:/Users/crazu/Documents/Inteligencia artificial/Wallo/p1'  # Cambia esto a la ruta de tu carpeta de salida\n",
    "\n",
    "resize_images(input_folder, output_folder)\n"
   ]
  },
  {
   "cell_type": "code",
   "execution_count": null,
   "id": "e96b648d-1e32-44ed-acef-fe0e3db9ece9",
   "metadata": {},
   "outputs": [],
   "source": []
  }
 ],
 "metadata": {
  "kernelspec": {
   "display_name": "Python 3 (ipykernel)",
   "language": "python",
   "name": "python3"
  },
  "language_info": {
   "codemirror_mode": {
    "name": "ipython",
    "version": 3
   },
   "file_extension": ".py",
   "mimetype": "text/x-python",
   "name": "python",
   "nbconvert_exporter": "python",
   "pygments_lexer": "ipython3",
   "version": "3.10.13"
  }
 },
 "nbformat": 4,
 "nbformat_minor": 5
}
