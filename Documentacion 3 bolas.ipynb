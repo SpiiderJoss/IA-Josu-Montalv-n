{
 "cells": [
  {
   "cell_type": "markdown",
   "id": "d25cf07d-0999-4583-a9c2-09ade3e2d7ce",
   "metadata": {},
   "source": [
    "# Phaser 3 bolas documentacion"
   ]
  },
  {
   "cell_type": "markdown",
   "id": "2f2a106b-393c-48ac-85a7-d12ce0791493",
   "metadata": {},
   "source": [
    "## Descripción"
   ]
  },
  {
   "cell_type": "markdown",
   "id": "c530eac5-1b21-42f7-99a6-9fe5b42e91c0",
   "metadata": {},
   "source": [
    "Este proyecto es un juego desarrollado con Phaser 3 que incluye balas que rebotan y un jugador que puede moverse manualmente o automáticamente utilizando una red neuronal."
   ]
  },
  {
   "cell_type": "markdown",
   "id": "b06e65f4-c3b8-463d-9ce3-b7a61ab9cb3d",
   "metadata": {},
   "source": [
    "## Dependencias"
   ]
  },
  {
   "cell_type": "markdown",
   "id": "d586dfb3-a97f-4199-8831-51c033c4084e",
   "metadata": {},
   "source": [
    "* Phaser 3\n",
    "* Synaptic.js"
   ]
  },
  {
   "cell_type": "markdown",
   "id": "53cfb436-b41d-44e8-a521-afcb4c3e73ff",
   "metadata": {},
   "source": [
    "## Configuración"
   ]
  },
  {
   "cell_type": "markdown",
   "id": "802ef8af-27a2-4f43-84ae-10dd9b56440d",
   "metadata": {},
   "source": [
    "* Incluye las bibliotecas de Phaser y Synaptic en tu archivo HTML.\r",
    "* \n",
    "Precarga las imágenes y sprites necesarios.* \r\n",
    "Inicializa el juego y la física de Phase\n",
    "* Configura el jugador, la bala y el fondo.do."
   ]
  },
  {
   "cell_type": "markdown",
   "id": "f1f41f50-002f-4b83-9100-07417e3d0dea",
   "metadata": {},
   "source": [
    " # Código"
   ]
  },
  {
   "cell_type": "markdown",
   "id": "a40aad02-ab75-4882-8494-57e2351009da",
   "metadata": {},
   "source": [
    "### index.html"
   ]
  },
  {
   "cell_type": "code",
   "execution_count": null,
   "id": "cfe58a6a-d753-4dde-82f0-38f4e4914dc7",
   "metadata": {},
   "outputs": [],
   "source": [
    "<!doctype html>\n",
    "<html>\n",
    "<head>\n",
    "    <meta charset=\"UTF-8\" />\n",
    "    <title>Phaser 3 Balas</title>\n",
    "    <style>\n",
    "        body {\n",
    "            display: flex;\n",
    "            justify-content: center;\n",
    "            align-items: center;\n",
    "            overflow: hidden;\n",
    "            background: #000;\n",
    "            flex-direction: column;\n",
    "        }\n",
    "    </style>\n",
    "    <script src=\"lib/phaser.min.js\"></script>\n",
    "    <script src=\"lib/synaptic.js\"></script>\n",
    "</head>\n",
    "<body>\n",
    "    <h1 style=\"color: aliceblue; display: flex;\">Game Phaser 3 bolas</h1>\n",
    "    <div class=\"juego\" style=\"display: flex; -ms-flex-align: center; \">\n",
    "        <script src=\"demo1.js\" type=\"text/javascript\"></script>\n",
    "    </div>\n",
    "    <h2 style=\"color: aliceblue; display: flex;\">Josué Montalván Zavala -- 20120137</h2>\n",
    "\n",
    "    <button onclick=\"redirectToAnotherPage()\" style=\"width: 200px; height: 50px;\">Juego pelota rebotes</button>\n",
    "    <br>\n",
    "    <br>\n",
    "\n",
    "    <!-- Función JavaScript para redireccionar -->\n",
    "    <script>\n",
    "        function redirectToAnotherPage() {\n",
    "            // Cambia la URL a la que deseas redireccionar\n",
    "            window.location.href = 'rebotes.html';\n",
    "        }\n",
    "    </script>\n",
    "</body>\n",
    "</html>\n"
   ]
  },
  {
   "cell_type": "markdown",
   "id": "35b42223-f6b0-4afb-947a-81dea4f0257b",
   "metadata": {},
   "source": [
    "### rebotes.html"
   ]
  },
  {
   "cell_type": "code",
   "execution_count": null,
   "id": "c32d65b7-f777-4e5d-9413-bd3eb375c221",
   "metadata": {},
   "outputs": [],
   "source": [
    "<!doctype html>\n",
    "<html>\n",
    "<head>\n",
    "    <meta charset=\"UTF-8\" />\n",
    "    <title>Phaser 3 Balas</title>\n",
    "    <style>\n",
    "        body {\n",
    "            display: flex;\n",
    "            justify-content: center;\n",
    "            align-items: center;\n",
    "            overflow: hidden;\n",
    "            background: #000;\n",
    "            flex-direction: column;\n",
    "        }\n",
    "    </style>\n",
    "    <script src=\"lib/phaser.min.js\"></script>\n",
    "    <script src=\"lib/synaptic.js\"></script>\n",
    "</head>\n",
    "<body>\n",
    "    <h1 style=\"color: aliceblue; display: flex;\"> Juego rebotes</h1>\n",
    "    <div class=\"juego\" style=\"display: flex; -ms-flex-align: center; \">\n",
    "        <script src=\"phaser2.js\" type=\"text/javascript\"></script>\n",
    "    </div>\n",
    "    <h2 style=\"color: aliceblue; display: flex;\">Josué Montalván Zavala -- 20120137</h2>\n",
    "\n",
    "    <button onclick=\"redirectToAnotherPage()\" style=\"width: 200px; height: 50px;\">Juego phaser 3 naves </button>\n",
    "    <br>\n",
    "    <br>\n",
    "    <!-- Función JavaScript para redireccionar -->\n",
    "    <script>\n",
    "        function redirectToAnotherPage() {\n",
    "            // Cambia la URL a la que deseas redireccionar\n",
    "            window.location.href = 'index.html';\n",
    "        }\n",
    "    </script>\n",
    "</body>\n",
    "</html>\n"
   ]
  },
  {
   "cell_type": "markdown",
   "id": "92eca10b-d800-4bd3-b0b5-e76f3fb36029",
   "metadata": {},
   "source": [
    "## JavaScript"
   ]
  },
  {
   "cell_type": "markdown",
   "id": "a0bc9596-d03f-4cf0-8770-d1457f5af922",
   "metadata": {},
   "source": [
    "### demo1.js variables globales"
   ]
  },
  {
   "cell_type": "code",
   "execution_count": null,
   "id": "42c0c2fa-7910-4fe7-886e-603477ed5b81",
   "metadata": {},
   "outputs": [],
   "source": [
    "var w = 350;\n",
    "var h = 350;\n",
    "var jugador;\n",
    "var fondo;\n",
    "var bala;\n",
    "var VOLVIENDOV = false;\n",
    "var VOLVIENDOH = false;\n",
    "var cursors;\n",
    "var menu;\n",
    "var estatusIzquierda;\n",
    "var estatusDerecha;\n",
    "var estatusArriba;\n",
    "var estatusAbajo;\n",
    "var estatusMovimiento;\n",
    "var nnNetwork, nnEntrenamiento, nnSalida, datosEntrenamiento = [];\n",
    "var modoAuto = false, eCompleto = false;\n",
    "var JX = 200;\n",
    "var JY = 200;\n",
    "var autoMode = false;\n",
    "var juego = new Phaser.Game(w, h, Phaser.CANVAS, '', { preload: preload, create: create, update: update, render: render });\n"
   ]
  },
  {
   "cell_type": "markdown",
   "id": "455cd0fb-97fb-469f-b1d1-b4bda5bb78f5",
   "metadata": {},
   "source": [
    "### Precargar recursos"
   ]
  },
  {
   "cell_type": "code",
   "execution_count": null,
   "id": "fa4cc05a-2d80-45d2-b314-de65b4b0b0e6",
   "metadata": {},
   "outputs": [],
   "source": [
    "function preload() {\n",
    "    juego.load.image('background', 'assets/game/background1.jpg');\n",
    "    juego.load.spritesheet('mono', 'assets/sprites/altair.png', 32, 48);\n",
    "    juego.load.image('menu', 'assets/game/menu.png');\n",
    "    juego.load.image('bala', 'assets/sprites/purple_ball.png');\n",
    "}\n"
   ]
  },
  {
   "cell_type": "markdown",
   "id": "3b8ed6ed-4e46-4b38-aa61-c3fde9caa6a4",
   "metadata": {},
   "source": [
    "### Crear elementos del juego"
   ]
  },
  {
   "cell_type": "code",
   "execution_count": null,
   "id": "0cf1c07b-2357-4342-90fb-4086e63b3f4d",
   "metadata": {},
   "outputs": [],
   "source": [
    "function create() {\n",
    "    juego.physics.startSystem(Phaser.Physics.ARCADE);\n",
    "    juego.physics.arcade.gravity.y = 0;\n",
    "    juego.time.desiredFps = 30;\n",
    "\n",
    "    fondo = juego.add.tileSprite(0, 0, w, h, 'background');\n",
    "    jugador = juego.add.sprite(w / 2, h / 2, 'mono');\n",
    "\n",
    "    juego.physics.enable(jugador);\n",
    "    jugador.body.collideWorldBounds = true;\n",
    "    var corre = jugador.animations.add('corre', [8, 9, 10, 11]);\n",
    "    jugador.animations.play('corre', 10, true);\n",
    "\n",
    "    bala = juego.add.sprite(0, 0, 'bala');\n",
    "    juego.physics.enable(bala);\n",
    "    bala.body.collideWorldBounds = true;\n",
    "    bala.body.bounce.set(1);\n",
    "    setRandomBalaVelocity();\n",
    "\n",
    "    pausaL = juego.add.text(w - 100, 20, 'Pausa', { font: '20px Arial', fill: '#fff' });\n",
    "    pausaL.inputEnabled = true;\n",
    "    pausaL.events.onInputUp.add(pausa, self);\n",
    "    juego.input.onDown.add(mPausa, self);\n",
    "\n",
    "    cursors = juego.input.keyboard.createCursorKeys();\n",
    "\n",
    "    nnNetwork = new synaptic.Architect.Perceptron(3, 6, 6, 6, 5);\n",
    "    nnEntrenamiento = new synaptic.Trainer(nnNetwork);\n",
    "}\n"
   ]
  },
  {
   "cell_type": "markdown",
   "id": "15adc6b8-12e0-4b3c-bde3-6aee6a0a7157",
   "metadata": {},
   "source": [
    "### Funciones de la red neuronal"
   ]
  },
  {
   "cell_type": "code",
   "execution_count": null,
   "id": "606e4c6e-98a8-456d-b71f-7292a73f188f",
   "metadata": {},
   "outputs": [],
   "source": [
    "function enRedNeural() {\n",
    "    nnEntrenamiento.train(datosEntrenamiento, { rate: 0.0003, iterations: 10000, shuffle: true });\n",
    "}\n",
    "\n",
    "function datosVertical(param_entrada) {\n",
    "    nnSalida = nnNetwork.activate(param_entrada);\n",
    "    return nnSalida[2] >= nnSalida[3];\n",
    "}\n",
    "\n",
    "function datosHorizontal(param_entrada) {\n",
    "    nnSalida = nnNetwork.activate(param_entrada);\n",
    "    return nnSalida[0] >= nnSalida[1];\n",
    "}\n",
    "\n",
    "function datosMovimiento(param_entrada) {\n",
    "    nnSalida = nnNetwork.activate(param_entrada);\n",
    "    return nnSalida[4] * 100 >= 20;\n",
    "}\n"
   ]
  },
  {
   "cell_type": "markdown",
   "id": "e8e9f857-a03d-477c-b733-fb387baedde7",
   "metadata": {},
   "source": [
    "### Funciones del juego"
   ]
  },
  {
   "cell_type": "code",
   "execution_count": null,
   "id": "3ff7cb42-5e28-412e-b81d-f43d77b84ee5",
   "metadata": {},
   "outputs": [],
   "source": [
    "function pausa() {\n",
    "    juego.paused = true;\n",
    "    menu = juego.add.sprite(w / 2, h / 2, 'menu');\n",
    "    menu.anchor.setTo(0.5, 0.5);\n",
    "}\n",
    "\n",
    "function mPausa(event) {\n",
    "    if (juego.paused) {\n",
    "        var menu_x1 = w / 2 - 270 / 2, menu_x2 = w / 2 + 270 / 2,\n",
    "            menu_y1 = h / 2 - 180 / 2, menu_y2 = h / 2 + 180 / 2;\n",
    "        var mouse_x = event.x,\n",
    "            mouse_y = event.y;\n",
    "        if (mouse_x > menu_x1 && mouse_x < menu_x2 && mouse_y > menu_y1 && mouse_y < menu_y2) {\n",
    "            if (mouse_x >= menu_x1 && mouse_x <= menu_x2 && mouse_y >= menu_y1 && mouse_y <= menu_y1 + 90) {\n",
    "                eCompleto = false;\n",
    "                datosEntrenamiento = [];\n",
    "                modoAuto = false;\n",
    "            } else if (mouse_x >= menu_x1 && mouse_x <= menu_x2 && mouse_y >= menu_y1 + 90 && mouse_y <= menu_y2) {\n",
    "                if (!eCompleto) {\n",
    "                    enRedNeural();\n",
    "                    eCompleto = true;\n",
    "                }\n",
    "                modoAuto = true;\n",
    "            }\n",
    "            menu.destroy();\n",
    "            reset();\n",
    "            juego.paused = false;\n",
    "        } else {\n",
    "            menu.destroy();\n",
    "            juego.paused = false;\n",
    "        }\n",
    "    }\n",
    "}\n",
    "\n",
    "function reset() {\n",
    "    JX = 200;\n",
    "    JY = 200;\n",
    "    jugador.reset(JX, JY);\n",
    "}\n",
    "\n",
    "function update() {\n",
    "    if (modoAuto) {\n",
    "        // Lógica de movimiento automático\n",
    "    } else {\n",
    "        if (cursors.left.isDown) {\n",
    "            jugador.body.velocity.x = -150;\n",
    "        }\n",
    "        if (cursors.right.isDown) {\n",
    "            jugador.body.velocity.x = 150;\n",
    "        }\n",
    "        if (cursors.up.isDown) {\n",
    "            jugador.body.velocity.y = -150;\n",
    "        }\n",
    "        if (cursors.down.isDown) {\n",
    "            jugador.body.velocity.y = 150;\n",
    "        }\n",
    "    }\n",
    "\n",
    "    if (!modoAuto && !cursors.left.isDown && !cursors.right.isDown && !cursors.up.isDown && !cursors.down.isDown) {\n",
    "        jugador.body.velocity.x = 0;\n",
    "        jugador.body.velocity.y = 0;\n",
    "    }\n",
    "}\n",
    "\n",
    "function render() {\n",
    "    juego.debug.text('Modo Auto: ' + (modoAuto ? 'Activado' : 'Desactivado'), 20, 30);\n",
    "    juego.debug.text('Entrenamiento: ' + datosEntrenamiento.length + ' valores', 20, 50);\n",
    "}\n",
    "\n",
    "function setRandomBalaVelocity() {\n",
    "    var speed = 300;\n",
    "    var angle = juego.rnd.angle();\n",
    "    bala.body.velocity.set(Math.cos(angle) * speed, Math.sin(angle) * speed);\n",
    "}\n",
    "\n",
    "function colisionH() {\n",
    "    autoMode = true;\n",
    "    pausa();\n",
    "}\n"
   ]
  },
  {
   "cell_type": "markdown",
   "id": "00550356-ee0f-4373-b079-c8ff8984fa10",
   "metadata": {},
   "source": [
    "# Explicación del Código"
   ]
  },
  {
   "cell_type": "markdown",
   "id": "dce07645-27ac-4187-a353-8bc84d1eea05",
   "metadata": {},
   "source": [
    "### Variables Globales"
   ]
  },
  {
   "cell_type": "markdown",
   "id": "4440b1c6-714b-4fc8-81f6-c43a6dfe3980",
   "metadata": {},
   "source": [
    "* w y h definen el ancho y alto del juego.\n",
    "* jugador es el sprite del jugador.\n",
    "* fondo es el fondo del juego.\n",
    "* bala es el sprite de la bala.\n",
    "* VOLVIENDOV y VOLVIENDOH indican si el jugador está volviendo al centro.\n",
    "* cursors almacena las teclas de dirección.\n",
    "* nnNetwork es la red neuronal.\n",
    "* datosEntrenamiento almacena los datos de entrenamiento.\n",
    "* modoAuto y eCompleto indican si el modo automático está activado y si el entrenamiento está completo."
   ]
  },
  {
   "cell_type": "markdown",
   "id": "3ffc6d98-e3da-4e83-aa81-475d32bd349b",
   "metadata": {},
   "source": [
    "## Funciones"
   ]
  },
  {
   "cell_type": "markdown",
   "id": "9a0e0682-793e-48db-9321-54b0de71df08",
   "metadata": {},
   "source": [
    "\n",
    "\r\n",
    "##### `preload()`\r\n",
    "Carga las imágenes y sprites.\r\n",
    "\r\n",
    "##### `create()`\r\n",
    "Inicializa el juego, la física, y configura el jugador, la bala y la red neuronal.\r\n",
    "\r\n",
    "##### `enRedNeural()`\r\n",
    "Entrena la red neuronal.\r\n",
    "\r\n",
    "##### `datosVertical()`, `datosHorizontal()`, y `datosMovimiento()`\r\n",
    "Activan la red neuronal y determinan las acciones del jugador.\r\n",
    "\r\n",
    "##### `pausa()` y `mPausa()`\r\n",
    "Manejan el estado de pausa del juego.\r\n",
    "\r\n",
    "##### `reset()`\r\n",
    "Reinicia la posición del jugador.\r\n",
    "\r\n",
    "##### `update()`\r\n",
    "Maneja el movimiento del jugador.\r\n",
    "\r\n",
    "##### `render()`\r\n",
    "Dibuja el texto de depuración en la pantalla.\r\n",
    "\r\n",
    "##### `setRandomBalaVelocity()`\r\n",
    "Establece una velocidad aleatoria para la bala.\r\n",
    "idad aleatoria para la bala.\r\n",
    "la bala."
   ]
  },
  {
   "cell_type": "markdown",
   "id": "c0dab179-a47d-4f3b-a79d-e6a6c2542260",
   "metadata": {},
   "source": [
    "# Créditos"
   ]
  },
  {
   "cell_type": "markdown",
   "id": "5ec7d128-f29b-4e0f-9321-5894cf07c7d6",
   "metadata": {},
   "source": [
    "### Josué Montalván Zavala -- 20120137\n",
    "\n",
    "\n",
    "\n",
    "\n"
   ]
  },
  {
   "cell_type": "code",
   "execution_count": null,
   "id": "f6629f05-e0c7-47b9-9d80-5e2ce3799168",
   "metadata": {},
   "outputs": [],
   "source": []
  }
 ],
 "metadata": {
  "kernelspec": {
   "display_name": "Python 3 (ipykernel)",
   "language": "python",
   "name": "python3"
  },
  "language_info": {
   "codemirror_mode": {
    "name": "ipython",
    "version": 3
   },
   "file_extension": ".py",
   "mimetype": "text/x-python",
   "name": "python",
   "nbconvert_exporter": "python",
   "pygments_lexer": "ipython3",
   "version": "3.10.13"
  }
 },
 "nbformat": 4,
 "nbformat_minor": 5
}
